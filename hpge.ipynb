{
  "cells": [
    {
      "cell_type": "code",
      "source": [
        "from google.colab import drive\n",
        "drive.mount('/content/gdrive/', force_remount=True)"
      ],
      "metadata": {
        "colab": {
          "base_uri": "https://localhost:8080/"
        },
        "id": "P8olBXLTw_EZ",
        "outputId": "84eb97c3-602b-4e42-c536-5d76ea9e2743"
      },
      "execution_count": null,
      "outputs": [
        {
          "output_type": "stream",
          "name": "stdout",
          "text": [
            "Mounted at /content/gdrive/\n"
          ]
        }
      ]
    },
    {
      "cell_type": "code",
      "source": [
        "%cd /content/gdrive/MyDrive/hpge/"
      ],
      "metadata": {
        "colab": {
          "base_uri": "https://localhost:8080/"
        },
        "id": "a_7eA-wjxWD-",
        "outputId": "42df9d2c-8890-4768-c296-86d73c64c195"
      },
      "execution_count": null,
      "outputs": [
        {
          "output_type": "stream",
          "name": "stdout",
          "text": [
            "/content/gdrive/MyDrive/hpge\n"
          ]
        }
      ]
    },
    {
      "cell_type": "code",
      "execution_count": null,
      "metadata": {
        "id": "6-c9P_BKw9O_"
      },
      "outputs": [],
      "source": [
        "nodes = {}\n",
        "nodes['dummy_node'] = 0\n",
        "edge_list = []\n",
        "node_type_list = []\n",
        "# edge_list - [s_id,s_type,t_id,t_type,e_type,year]\n",
        "# sid, s_type, tid, t_type, e_type, timestamp\n",
        "\n",
        "file = open(\"acm_output.txt\", encoding=\"utf8\")"
      ]
    },
    {
      "cell_type": "code",
      "execution_count": null,
      "metadata": {
        "id": "-oNR_8Ziw9PE"
      },
      "outputs": [],
      "source": [
        "def fetchData():\n",
        "    line = file.readline()\n",
        "    cnt = 0\n",
        "    \n",
        "    while cnt < 10000:\n",
        "        if not line: break\n",
        "        if cnt > 0: line = file.readline()\n",
        "        cnt += 1\n",
        "\n",
        "        authors = []\n",
        "        year = ''\n",
        "        conf = ''\n",
        "\n",
        "        for i in range(7):\n",
        "            if i == 1: authors = line[2:-1].split(',')\n",
        "            if i == 2: year = line[5:-1]\n",
        "            if i == 3: conf = line[5:-1]\n",
        "            line = file.readline()\n",
        "        \n",
        "        while not line or not(line == '\\n'): line = file.readline()\n",
        "\n",
        "        if nodes.get(conf) == None:\n",
        "            nodes[conf] = len(nodes.keys())\n",
        "            node_type_list.append(1)\n",
        "        conf_id = nodes.get(conf)\n",
        "\n",
        "        author_ids = []\n",
        "        for author in authors:\n",
        "            if nodes.get(author) == None:\n",
        "                nodes[author] = len(nodes.keys())\n",
        "                node_type_list.append(0)\n",
        "            author_id = nodes[author]\n",
        "            author_ids.append(author_id)\n",
        "            edge_list.append([str(author_id),'0',str(conf_id),'1','0',year])\n",
        "            edge_list.append([str(conf_id),'1',str(author_id),'0','0',year])\n",
        "        \n",
        "        for i in author_ids:\n",
        "            for j in author_ids:\n",
        "                edge_list.append([str(i),'0',str(j),'0','1',year])"
      ]
    },
    {
      "cell_type": "code",
      "execution_count": null,
      "metadata": {
        "id": "A3QhVGFxw9PF"
      },
      "outputs": [],
      "source": [
        "def writeData(filename,edge_list):\n",
        "    # sid, s_type, tid, t_type, e_type, timestamp\n",
        "    with open(filename,\"w\") as data_file:\n",
        "        \n",
        "        for edge in edge_list:\n",
        "            data_file.write(','.join(edge))\n",
        "            data_file.write(\"\\n\")"
      ]
    },
    {
      "cell_type": "code",
      "execution_count": null,
      "metadata": {
        "colab": {
          "base_uri": "https://localhost:8080/"
        },
        "id": "TEWWDoWIw9PG",
        "outputId": "618507d2-7071-4df3-cee9-2e67fcfb6955"
      },
      "outputs": [
        {
          "output_type": "stream",
          "name": "stdout",
          "text": [
            "Number of edges 126737\n",
            "Number of nodes 17423\n"
          ]
        }
      ],
      "source": [
        "fetchData()\n",
        "print(\"Number of edges\",len(edge_list))\n",
        "print(\"Number of nodes\", len(nodes.keys())-1)"
      ]
    },
    {
      "cell_type": "code",
      "execution_count": null,
      "metadata": {
        "colab": {
          "base_uri": "https://localhost:8080/"
        },
        "id": "q2Gp9VsZw9PH",
        "outputId": "51b24804-c620-43f3-aa82-79e3f9be5a7d"
      },
      "outputs": [
        {
          "output_type": "stream",
          "name": "stdout",
          "text": [
            "Number of edges 126737\n",
            "Number of nodes 17423\n"
          ]
        }
      ],
      "source": [
        "print(\"Number of edges\",len(edge_list))\n",
        "print(\"Number of nodes\", len(nodes.keys())-1)"
      ]
    },
    {
      "cell_type": "code",
      "execution_count": null,
      "metadata": {
        "id": "D9-RXZJUw9PH"
      },
      "outputs": [],
      "source": [
        "writeData('data_file.txt',edge_list=edge_list)"
      ]
    },
    {
      "cell_type": "code",
      "execution_count": null,
      "metadata": {
        "id": "_AZnho6gw9PI"
      },
      "outputs": [],
      "source": [
        "from data_loader import DataLoader"
      ]
    },
    {
      "cell_type": "code",
      "execution_count": null,
      "metadata": {
        "colab": {
          "base_uri": "https://localhost:8080/"
        },
        "id": "pSqizKq3w9PI",
        "outputId": "9f06dc11-f40d-447d-a504-611788834078"
      },
      "outputs": [
        {
          "output_type": "stream",
          "name": "stdout",
          "text": [
            "1949 60 17423 126737\n"
          ]
        }
      ],
      "source": [
        "dl_obj = DataLoader(\"data_file.txt\", 5, 5, 2, ',', 'important')\n",
        "#                 (file_path, nbr_size, neg_size, num_edge_types,delim,sample_type):"
      ]
    },
    {
      "cell_type": "code",
      "execution_count": null,
      "metadata": {
        "colab": {
          "base_uri": "https://localhost:8080/",
          "height": 70
        },
        "id": "p7ds2rXnw9PJ",
        "outputId": "806bf892-a3f0-40f9-dad8-a6df6525b366"
      },
      "outputs": [
        {
          "output_type": "stream",
          "name": "stderr",
          "text": [
            "100%|█████████▉| 17400/17423 [00:11<00:00, 1470.38it/s]\n",
            " 95%|█████████▍| 120000/126737 [00:10<00:00, 11074.46it/s]\n"
          ]
        },
        {
          "output_type": "execute_result",
          "data": {
            "text/plain": [
              "'1;17423;0;8406,3365,4183,1989,7743;17418;17421,17422,17423;1.0;0.4,0.2,0.4;1;1;17423;0;2883,9521,230,4617,790;17418;17421,17422,17423;1.0;0.4,0.2,0.4;1;1\\n'"
            ],
            "application/vnd.google.colaboratory.intrinsic+json": {
              "type": "string"
            }
          },
          "metadata": {},
          "execution_count": 12
        }
      ],
      "source": [
        "dl_obj.generate_training_dataset(\"dataset.txt\", num_process=10)\n",
        "# rint(sid, s_type, tid, t_type, e_type, timestamp)"
      ]
    },
    {
      "cell_type": "code",
      "execution_count": null,
      "metadata": {
        "colab": {
          "base_uri": "https://localhost:8080/"
        },
        "id": "Mv2jtk-1w9PJ",
        "outputId": "eb4a3aac-7163-4ed0-e1ec-0594244bfc13"
      },
      "outputs": [
        {
          "output_type": "stream",
          "name": "stderr",
          "text": [
            "/content/gdrive/MyDrive/hpge/input.py:77: VisibleDeprecationWarning: Creating an ndarray from ragged nested sequences (which is a list-or-tuple of lists-or-tuples-or ndarrays with different lengths or shapes) is deprecated. If you meant to do this, you must specify 'dtype=object' when creating the ndarray.\n",
            "  arr_nums = np.array([ np.array([]) if type(s) == float else np.array(s.split(',')).astype(int) for s in str_np_arr.ravel()])\n",
            "/content/gdrive/MyDrive/hpge/input.py:88: VisibleDeprecationWarning: Creating an ndarray from ragged nested sequences (which is a list-or-tuple of lists-or-tuples-or ndarrays with different lengths or shapes) is deprecated. If you meant to do this, you must specify 'dtype=object' when creating the ndarray.\n",
            "  arr_nums = np.array([ np.array([]) if type(s) == float else np.array(s.split(',')).astype(int) for s in str_np_arr.ravel()])\n",
            "/content/gdrive/MyDrive/hpge/input.py:98: VisibleDeprecationWarning: Creating an ndarray from ragged nested sequences (which is a list-or-tuple of lists-or-tuples-or ndarrays with different lengths or shapes) is deprecated. If you meant to do this, you must specify 'dtype=object' when creating the ndarray.\n",
            "  arr_nums = np.array([ np.array([]) if type(s) == float else np.array(s.split(',')).astype(float) for s in str_np_arr.ravel()])\n"
          ]
        }
      ],
      "source": [
        "from input import input_func\n",
        "\n",
        "data = input_func('dataset.txt',2,126737,5,5,\";\",\",\")\n",
        "# (filename, num_edge_types, batch_size, neg_size=1, nbr_size=1,col_delim1=\";\", col_delim2=\",\")"
      ]
    },
    {
      "cell_type": "code",
      "execution_count": null,
      "metadata": {
        "id": "mkEUNTtuw9PK"
      },
      "outputs": [],
      "source": [
        "import tensorflow as tf\n",
        "import pickle as pkl\n",
        "\n",
        "# print(data[2].dtype)\n",
        "# data[0] = tf.cast(data[0], dtype = tf.int32)\n",
        "# print(data[1].dtype)"
      ]
    },
    {
      "cell_type": "code",
      "execution_count": null,
      "metadata": {
        "colab": {
          "base_uri": "https://localhost:8080/"
        },
        "id": "dYUmmMb-w9PK",
        "outputId": "64a9f2ae-8c0e-4691-c24f-8abbef65de70"
      },
      "outputs": [
        {
          "output_type": "stream",
          "name": "stdout",
          "text": [
            "2\n",
            "<keras.layers.core.dense.Dense object at 0x7fc5b17a9d20>\n"
          ]
        }
      ],
      "source": [
        "from new_model import HHP\n",
        "global_step = tf.compat.v1.train.get_or_create_global_step()\n",
        "model = HHP(global_step,0.001,126737,5,5,dl_obj.node_size,128,2,2,0.001)\n",
        "# global_step, learning_rate, batch_size, neg_size, nbr_size, node_size, node_dim, num_node_types,\n",
        "                #  num_edge_types,\n",
        "                #  norm_rate\n",
        "print(len(model.trainable_variables))\n",
        "print(model.edge_type_dense[0])"
      ]
    },
    {
      "cell_type": "code",
      "execution_count": null,
      "metadata": {
        "colab": {
          "base_uri": "https://localhost:8080/"
        },
        "id": "3Deeq63Ew9PK",
        "outputId": "885bb8d4-aa1d-4f7b-d495-1141d225756a"
      },
      "outputs": [
        {
          "output_type": "stream",
          "name": "stdout",
          "text": [
            "3\n",
            "tf.Tensor(2.3863335, shape=(), dtype=float32)\n"
          ]
        }
      ],
      "source": [
        "ret = model.__call__(data)\n",
        "print(len(ret))\n",
        "print(model.loss(ret[0],ret[1],ret[2]))"
      ]
    },
    {
      "cell_type": "code",
      "execution_count": null,
      "metadata": {
        "id": "NYV946D8w9PL"
      },
      "outputs": [],
      "source": [
        "@tf.function\n",
        "def train_step(data):\n",
        "    with tf.GradientTape() as tape:\n",
        "        output = model.__call__(data)\n",
        "        loss = model.loss(output[0],output[1],output[2])\n",
        "    grads = tape.gradient(loss,model.trainable_variables)\n",
        "    model.optimizer.apply_gradients(zip(grads,model.trainable_variables))\n",
        "    return loss"
      ]
    },
    {
      "cell_type": "code",
      "execution_count": null,
      "metadata": {
        "id": "Xdh4FYF_w9PL"
      },
      "outputs": [],
      "source": [
        "# training the model\n",
        "y = []\n",
        "x = []\n",
        "def train(data,epochs):\n",
        "    for e in range(epochs):\n",
        "        loss = train_step(data)\n",
        "        if e%100 == 0:\n",
        "          print(\"Loss\",loss)\n",
        "          x.append(e)\n",
        "          y.append(loss)"
      ]
    },
    {
      "cell_type": "code",
      "execution_count": null,
      "metadata": {
        "colab": {
          "base_uri": "https://localhost:8080/"
        },
        "id": "3ixRiZt_w9PL",
        "outputId": "132a88c1-4cde-4e1a-c9e8-67b031cd514a"
      },
      "outputs": [
        {
          "output_type": "stream",
          "name": "stdout",
          "text": [
            "Loss tf.Tensor(2.3863335, shape=(), dtype=float32)\n",
            "Loss tf.Tensor(0.8910843, shape=(), dtype=float32)\n",
            "Loss tf.Tensor(0.8288893, shape=(), dtype=float32)\n",
            "Loss tf.Tensor(0.822021, shape=(), dtype=float32)\n",
            "Loss tf.Tensor(0.8190619, shape=(), dtype=float32)\n",
            "Loss tf.Tensor(0.8174866, shape=(), dtype=float32)\n",
            "Loss tf.Tensor(0.81649536, shape=(), dtype=float32)\n",
            "Loss tf.Tensor(0.81577945, shape=(), dtype=float32)\n",
            "Loss tf.Tensor(0.8152451, shape=(), dtype=float32)\n",
            "Loss tf.Tensor(0.81484693, shape=(), dtype=float32)\n"
          ]
        }
      ],
      "source": [
        "train(data,1000)"
      ]
    },
    {
      "cell_type": "code",
      "source": [
        "import matplotlib.pyplot as plt\n",
        "\n",
        "plt.plot(x,y)\n",
        "plt.xlabel(\"Epochs\")\n",
        "plt.ylabel(\"Loss\")"
      ],
      "metadata": {
        "colab": {
          "base_uri": "https://localhost:8080/",
          "height": 466
        },
        "id": "cWrH7G-GRrOy",
        "outputId": "ff245688-ab7d-463e-a7d5-8d6929491963"
      },
      "execution_count": null,
      "outputs": [
        {
          "output_type": "execute_result",
          "data": {
            "text/plain": [
              "Text(0, 0.5, 'Loss')"
            ]
          },
          "metadata": {},
          "execution_count": 18
        },
        {
          "output_type": "display_data",
          "data": {
            "text/plain": [
              "<Figure size 640x480 with 1 Axes>"
            ],
            "image/png": "[encoded data removed]"
          },
          "metadata": {}
        }
      ]
    },
    {
      "cell_type": "code",
      "execution_count": null,
      "metadata": {
        "colab": {
          "base_uri": "https://localhost:8080/"
        },
        "id": "Buf_dU-pw9PM",
        "outputId": "77b939e6-aa02-4feb-a55a-1337d87f7f6c"
      },
      "outputs": [
        {
          "output_type": "stream",
          "name": "stderr",
          "text": [
            "WARNING:absl:Found untraced functions such as dense_layer_call_fn, dense_layer_call_and_return_conditional_losses, dense_1_layer_call_fn, dense_1_layer_call_and_return_conditional_losses, dense_2_layer_call_fn while saving (showing 5 of 10). These functions will not be directly callable after loading.\n"
          ]
        }
      ],
      "source": [
        "pkl.dump([model.embedding, model.edge_type_embed], open(\"embedding_file\", \"wb\"))\n",
        "tf.saved_model.save(model,'/')"
      ]
    },
    {
      "cell_type": "code",
      "execution_count": null,
      "metadata": {
        "id": "o4vR3-pHw9PM"
      },
      "outputs": [],
      "source": [
        "from sklearn.cluster import KMeans\n",
        "from sklearn.linear_model import LogisticRegression\n",
        "from sklearn.metrics import f1_score, normalized_mutual_info_score, adjusted_rand_score, roc_auc_score, accuracy_score\n",
        "from sklearn.model_selection import train_test_split\n",
        "import numpy as np\n",
        "import pickle as pkl"
      ]
    },
    {
      "cell_type": "code",
      "execution_count": null,
      "metadata": {
        "id": "27w0tr4ww9PM"
      },
      "outputs": [],
      "source": [
        "node_embed, _ = pkl.load(open(\"embedding_file\", \"rb\"))"
      ]
    },
    {
      "cell_type": "code",
      "execution_count": null,
      "metadata": {
        "id": "0ks9ROuQw9PM"
      },
      "outputs": [],
      "source": [
        "node_embed = node_embed.numpy()\n",
        "x_train, x_valid, y_train, y_valid = train_test_split(node_embed, node_type_list, test_size=0.3,random_state=9)"
      ]
    },
    {
      "cell_type": "code",
      "source": [
        "zero = []\n",
        "one = []\n",
        "\n",
        "for i in range(len(node_type_list)):\n",
        "  if node_type_list[i] == 1: one.append(i)\n",
        "  else: zero.append(i)\n",
        "\n",
        "confs = np.repeat(node_embed[one], 35, axis = 0) \n",
        "athrs = node_embed[zero]\n",
        "\n",
        "cy = [1 for _ in range(confs.shape[0])]\n",
        "ay = [0 for _ in range(athrs.shape[0])]\n",
        "\n",
        "print(confs.shape, type(node_embed[0]))\n",
        "print(athrs.shape)\n",
        "\n",
        "cx_train, cx_valid, cy_train, cy_valid = train_test_split(confs, cy, test_size=0.1,random_state=9)\n",
        "ax_train, ax_valid, ay_train, ay_valid = train_test_split(athrs, ay, test_size=0.4,random_state=9)\n",
        "\n",
        "print(cx_train.shape, ax_train.shape)\n",
        "\n",
        "x_train = np.append(cx_train,ax_train,axis = 0)\n",
        "x_valid = np.append(cx_valid,ax_valid,axis = 0)\n",
        "y_train = np.append(cy_train,ay_train,axis = 0)\n",
        "y_valid = np.append(cy_valid,ay_valid,axis = 0)"
      ],
      "metadata": {
        "colab": {
          "base_uri": "https://localhost:8080/"
        },
        "id": "RvQaCvGGk4NN",
        "outputId": "96c32be4-24cf-4462-e471-fac45084da90"
      },
      "execution_count": null,
      "outputs": [
        {
          "output_type": "stream",
          "name": "stdout",
          "text": [
            "(5565, 128) <class 'numpy.ndarray'>\n",
            "(17264, 128)\n",
            "(5008, 128) (10358, 128)\n"
          ]
        }
      ]
    },
    {
      "cell_type": "code",
      "execution_count": null,
      "metadata": {
        "colab": {
          "base_uri": "https://localhost:8080/"
        },
        "id": "WY_Kw0RPw9PM",
        "outputId": "7fb0b346-0004-4b0f-c412-c62abcf0f3b1"
      },
      "outputs": [
        {
          "output_type": "stream",
          "name": "stdout",
          "text": [
            "Macro_F1_score:0.7051747701137094\n",
            "Micro_F1_score:0.8756532225646523\n",
            "Accuracy:0.8756532225646523\n"
          ]
        }
      ],
      "source": [
        "lr = LogisticRegression()\n",
        "lr.fit(x_train, y_train)\n",
        "y_valid_pred = lr.predict(x_valid)\n",
        "micro_f1 = f1_score(y_valid, y_valid_pred, average='micro')\n",
        "macro_f1 = f1_score(y_valid, y_valid_pred, average='macro')\n",
        "acc = accuracy_score(y_valid,y_valid_pred)\n",
        "print('Macro_F1_score:{}'.format(macro_f1))\n",
        "print('Micro_F1_score:{}'.format(micro_f1))\n",
        "print('Accuracy:{}'.format(acc))"
      ]
    }
  ],
  "metadata": {
    "kernelspec": {
      "display_name": "Python 3",
      "language": "python",
      "name": "python3"
    },
    "language_info": {
      "codemirror_mode": {
        "name": "ipython",
        "version": 3
      },
      "file_extension": ".py",
      "mimetype": "text/x-python",
      "name": "python",
      "nbconvert_exporter": "python",
      "pygments_lexer": "ipython3",
      "version": "3.10.4"
    },
    "orig_nbformat": 4,
    "vscode": {
      "interpreter": {
        "hash": "d847c3ca7d9b30bc5e0b2813a620b0f9fe8fd66ad82720e48ebd6511f433140f"
      }
    },
    "colab": {
      "provenance": []
    },
    "accelerator": "GPU",
    "gpuClass": "standard"
  },
  "nbformat": 4,
  "nbformat_minor": 0
}